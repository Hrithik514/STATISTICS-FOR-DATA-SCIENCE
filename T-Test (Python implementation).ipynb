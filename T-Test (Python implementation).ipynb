{
 "cells": [
  {
   "cell_type": "markdown",
   "id": "8de89c54",
   "metadata": {},
   "source": [
    "# T-Test"
   ]
  },
  {
   "cell_type": "markdown",
   "id": "bb15bdae",
   "metadata": {},
   "source": [
    "T-test is the statistical test which is used to find the significant difference between the mean of the 2 groups or 2 samples.\n",
    "\n",
    "We can also test whether the sample mean is the estimate of the population mean or not. if the sample size is small (say <30)\n",
    "and the population standard deviation is unknown.\n",
    "\n",
    "The distribution of the population should be normal"
   ]
  },
  {
   "cell_type": "markdown",
   "id": "de026149",
   "metadata": {},
   "source": [
    "# One sample T-test"
   ]
  },
  {
   "cell_type": "markdown",
   "id": "2830eb50",
   "metadata": {},
   "source": [
    "The one sample t test basically test whether the sample mean is the estimate of the population mean."
   ]
  },
  {
   "cell_type": "code",
   "execution_count": 1,
   "id": "19ad6a9f",
   "metadata": {},
   "outputs": [],
   "source": [
    "%matplotlib inline\n",
    "import numpy as np\n",
    "import pandas as pd\n",
    "import seaborn as sns\n",
    "import scipy.stats as stats\n",
    "import matplotlib.pyplot as plt\n",
    "import math"
   ]
  },
  {
   "cell_type": "code",
   "execution_count": 2,
   "id": "58392587",
   "metadata": {},
   "outputs": [],
   "source": [
    "np.random.seed(6)\n",
    "school_weight=stats.poisson.rvs(loc=40,mu=70,size=4000)   #population distribution \n",
    "class_weight=stats.poisson.rvs(loc=45,mu=75,size=60)      #Sample distribution"
   ]
  },
  {
   "cell_type": "code",
   "execution_count": 3,
   "id": "5624ddc1",
   "metadata": {},
   "outputs": [
    {
     "data": {
      "text/plain": [
       "[Text(0.5, 1.0, 'class_weight')]"
      ]
     },
     "execution_count": 3,
     "metadata": {},
     "output_type": "execute_result"
    },
    {
     "data": {
      "image/png": "[encoded data removed]",
      "text/plain": [
       "<Figure size 720x360 with 2 Axes>"
      ]
     },
     "metadata": {
      "needs_background": "light"
     },
     "output_type": "display_data"
    }
   ],
   "source": [
    "fig, axes = plt.subplots(1, 2,sharex=True,figsize=(10, 5))\n",
    "sns.kdeplot(data=school_weight,ax=axes[0]).set(title=\"school_weight\")\n",
    "sns.kdeplot(data=class_weight,ax=axes[1]).set(title=\"class_weight\")"
   ]
  },
  {
   "cell_type": "code",
   "execution_count": 4,
   "id": "939f0af8",
   "metadata": {},
   "outputs": [
    {
     "name": "stdout",
     "output_type": "stream",
     "text": [
      "110.28925\n"
     ]
    }
   ],
   "source": [
    "print(school_weight.mean())       #population mean"
   ]
  },
  {
   "cell_type": "code",
   "execution_count": 5,
   "id": "e530586e",
   "metadata": {},
   "outputs": [
    {
     "name": "stdout",
     "output_type": "stream",
     "text": [
      "117.8\n"
     ]
    }
   ],
   "source": [
    "print(class_weight.mean())        #sample mean   "
   ]
  },
  {
   "cell_type": "markdown",
   "id": "0c184920",
   "metadata": {},
   "source": [
    "Now the task is to test whether this sample mean is the estimate of the population mean. Assume that population standard deviation is not given."
   ]
  },
  {
   "cell_type": "markdown",
   "id": "e96afb9e",
   "metadata": {},
   "source": [
    "## H0 : Sample_mean = Population_mean\n",
    "\n",
    "## H1 : Sample_mean != Population_mean\n",
    "\n",
    "## The test will be carried out with 95% confidence interval and 5% level of significance."
   ]
  },
  {
   "cell_type": "code",
   "execution_count": 6,
   "id": "7fb980ff",
   "metadata": {},
   "outputs": [],
   "source": [
    "ttest,p_value=stats.ttest_1samp(a=class_weight,popmean=school_weight.mean())"
   ]
  },
  {
   "cell_type": "markdown",
   "id": "af6dca4f",
   "metadata": {},
   "source": [
    "Here in the above statement from scipy.stats it calculates the ttest value and p value. It has 2 parameters they are sample values and the population mean."
   ]
  },
  {
   "cell_type": "code",
   "execution_count": 7,
   "id": "81b9cd3b",
   "metadata": {},
   "outputs": [
    {
     "name": "stdout",
     "output_type": "stream",
     "text": [
      "6.486932409023686\n"
     ]
    }
   ],
   "source": [
    "print(ttest)"
   ]
  },
  {
   "cell_type": "code",
   "execution_count": 8,
   "id": "7bcf9658",
   "metadata": {},
   "outputs": [
    {
     "name": "stdout",
     "output_type": "stream",
     "text": [
      "1.9859086802185888e-08\n"
     ]
    }
   ],
   "source": [
    "print(p_value)"
   ]
  },
  {
   "cell_type": "code",
   "execution_count": 9,
   "id": "7c5b5773",
   "metadata": {},
   "outputs": [
    {
     "name": "stdout",
     "output_type": "stream",
     "text": [
      " we are rejecting null hypothesis\n"
     ]
    }
   ],
   "source": [
    "if p_value < 0.05:   \n",
    "    print(\" we are rejecting null hypothesis\")\n",
    "else:\n",
    "    print(\"we are accepting null hypothesis\")"
   ]
  },
  {
   "cell_type": "markdown",
   "id": "b9d6df2f",
   "metadata": {},
   "source": [
    "So the p value is less than 0.05 the null hypothesis is rejected.\n",
    "\n",
    "The result is sample mean is not equal to the population mean"
   ]
  },
  {
   "cell_type": "markdown",
   "id": "5586d673",
   "metadata": {},
   "source": [
    "## Since it is two tailed test, the t-values would be"
   ]
  },
  {
   "cell_type": "code",
   "execution_count": 10,
   "id": "7ffabe54",
   "metadata": {},
   "outputs": [
    {
     "name": "stdout",
     "output_type": "stream",
     "text": [
      "-2.0009953770482105 2.00099537704821\n"
     ]
    }
   ],
   "source": [
    "print(stats.t.ppf(q=0.025,df=59),stats.t.ppf(q=0.975,df=59))"
   ]
  },
  {
   "cell_type": "markdown",
   "id": "0c8776f5",
   "metadata": {},
   "source": [
    "NOTE : T VALUE IS DIFFERENT FROM T-TEST VALUE"
   ]
  },
  {
   "cell_type": "markdown",
   "id": "4fad530f",
   "metadata": {},
   "source": [
    "## Confidence interval"
   ]
  },
  {
   "cell_type": "code",
   "execution_count": 11,
   "id": "580cfb91",
   "metadata": {},
   "outputs": [
    {
     "data": {
      "text/plain": [
       "(115.50257998887254, 120.09742001112745)"
      ]
     },
     "execution_count": 11,
     "metadata": {},
     "output_type": "execute_result"
    }
   ],
   "source": [
    "sigma=class_weight.std()/math.sqrt(60)  # Sample stdev/sample size\n",
    "\n",
    "stats.t.interval(0.95,                        # Confidence level\n",
    "                 df = 59,                     # Degrees of freedom\n",
    "                 loc = class_weight.mean(),   # Sample mean\n",
    "                 scale= sigma)   "
   ]
  },
  {
   "cell_type": "markdown",
   "id": "50c53a5e",
   "metadata": {},
   "source": [
    "The inference from the above statement is the sample distribution does not captured the population mean within the confidence interval.\n",
    "\n",
    "So the null hypothesis is rejected."
   ]
  },
  {
   "cell_type": "markdown",
   "id": "8e71eaf2",
   "metadata": {},
   "source": [
    "If we change the confidence interval then the sample distribution will have the chance of capturing the population mean inside its confidence interval.\n",
    "\n",
    "The confidence level and the level of significance will be decided by the domain expert"
   ]
  },
  {
   "cell_type": "markdown",
   "id": "1ec73103",
   "metadata": {},
   "source": [
    "# Two sample T-test "
   ]
  },
  {
   "cell_type": "markdown",
   "id": "be29daaa",
   "metadata": {},
   "source": [
    "A two-sample t-test investigates whether the means of two independent data samples differ from one another. In a two-sample test, the null hypothesis is that the means of both groups are the same"
   ]
  },
  {
   "cell_type": "code",
   "execution_count": 15,
   "id": "c344b302",
   "metadata": {},
   "outputs": [],
   "source": [
    "np.random.seed(6)\n",
    "A_class_weight=stats.poisson.rvs(loc=40,mu=70,size=60)      #sample distribution from school A \n",
    "B_class_weight=stats.poisson.rvs(loc=45,mu=65,size=60)      #Sample distributionn from school B"
   ]
  },
  {
   "cell_type": "code",
   "execution_count": 16,
   "id": "21a4245d",
   "metadata": {},
   "outputs": [
    {
     "data": {
      "text/plain": [
       "[Text(0.5, 1.0, 'B_class_weight')]"
      ]
     },
     "execution_count": 16,
     "metadata": {},
     "output_type": "execute_result"
    },
    {
     "data": {
      "image/png": "[encoded data removed]",
      "text/plain": [
       "<Figure size 720x360 with 2 Axes>"
      ]
     },
     "metadata": {
      "needs_background": "light"
     },
     "output_type": "display_data"
    }
   ],
   "source": [
    "fig, axes = plt.subplots(1, 2,sharex=True,figsize=(10, 5))\n",
    "sns.kdeplot(data=A_class_weight,ax=axes[0]).set(title=\"A_class_weight\")\n",
    "sns.kdeplot(data=B_class_weight,ax=axes[1]).set(title=\"B_class_weight\")"
   ]
  },
  {
   "cell_type": "code",
   "execution_count": 19,
   "id": "5b5f8dd2",
   "metadata": {},
   "outputs": [
    {
     "name": "stdout",
     "output_type": "stream",
     "text": [
      "110.13333333333334\n"
     ]
    }
   ],
   "source": [
    "print(A_class_weight.mean())"
   ]
  },
  {
   "cell_type": "code",
   "execution_count": 20,
   "id": "4fc1c702",
   "metadata": {},
   "outputs": [
    {
     "name": "stdout",
     "output_type": "stream",
     "text": [
      "109.55\n"
     ]
    }
   ],
   "source": [
    "print(B_class_weight.mean())"
   ]
  },
  {
   "cell_type": "markdown",
   "id": "3b4b2f37",
   "metadata": {},
   "source": [
    "## H0 : sample_mean_A= sample_mean_B\n",
    "\n",
    "## H1 : sample_mean_A !=  sample_mean_B\n",
    "\n",
    "## The test will be carried out with 95% confidence interval and 5% level of significance."
   ]
  },
  {
   "cell_type": "code",
   "execution_count": 21,
   "id": "c328b04e",
   "metadata": {},
   "outputs": [],
   "source": [
    "ttest,p_value=stats.ttest_ind(a=A_class_weight,b=B_class_weight,equal_var=False)"
   ]
  },
  {
   "cell_type": "code",
   "execution_count": 22,
   "id": "f7adac9d",
   "metadata": {},
   "outputs": [
    {
     "name": "stdout",
     "output_type": "stream",
     "text": [
      "0.379913627630679\n"
     ]
    }
   ],
   "source": [
    "print(ttest)"
   ]
  },
  {
   "cell_type": "code",
   "execution_count": 23,
   "id": "8197e292",
   "metadata": {},
   "outputs": [
    {
     "name": "stdout",
     "output_type": "stream",
     "text": [
      "0.7046980532223062\n"
     ]
    }
   ],
   "source": [
    "print(p_value)"
   ]
  },
  {
   "cell_type": "code",
   "execution_count": 24,
   "id": "c62608c1",
   "metadata": {},
   "outputs": [
    {
     "name": "stdout",
     "output_type": "stream",
     "text": [
      "we are accepting null hypothesis\n"
     ]
    }
   ],
   "source": [
    "if p_value < 0.05:   \n",
    "    print(\" we are rejecting null hypothesis\")\n",
    "else:\n",
    "    print(\"we are accepting null hypothesis\")"
   ]
  },
  {
   "cell_type": "markdown",
   "id": "5538edda",
   "metadata": {},
   "source": [
    "This test basically concludes that there is no difference in the samples"
   ]
  },
  {
   "cell_type": "markdown",
   "id": "4707219e",
   "metadata": {},
   "source": [
    "# Paired T-test"
   ]
  },
  {
   "cell_type": "markdown",
   "id": "264422cb",
   "metadata": {},
   "source": [
    "Paired t-test is to test whether 2 samples from same population are same or different."
   ]
  },
  {
   "cell_type": "markdown",
   "id": "abfc27c2",
   "metadata": {},
   "source": [
    "For instance, a hospital might want to test whether a weight-gain drug works by checking the weights of the same group patients before and after treatment."
   ]
  },
  {
   "cell_type": "code",
   "execution_count": 32,
   "id": "c3035014",
   "metadata": {},
   "outputs": [],
   "source": [
    "class_A_weight=[45,47,48,48,49,45,49,50,43,46,48]    #before taking drug\n",
    "class_B_weight=[47,49,50,50,51,47,53,51,46,48,51]    #after taking drug"
   ]
  },
  {
   "cell_type": "code",
   "execution_count": 27,
   "id": "11f5b3e0",
   "metadata": {},
   "outputs": [
    {
     "data": {
      "text/plain": [
       "[Text(0.5, 1.0, 'B_class_weight')]"
      ]
     },
     "execution_count": 27,
     "metadata": {},
     "output_type": "execute_result"
    },
    {
     "data": {
      "image/png": "[encoded data removed]",
      "text/plain": [
       "<Figure size 720x360 with 2 Axes>"
      ]
     },
     "metadata": {
      "needs_background": "light"
     },
     "output_type": "display_data"
    }
   ],
   "source": [
    "fig, axes = plt.subplots(1, 2,sharex=True,figsize=(10, 5))\n",
    "sns.kdeplot(data=class_A_weight,ax=axes[0]).set(title=\"class_A_weight\")\n",
    "sns.kdeplot(data=class_B_weight,ax=axes[1]).set(title=\"class_B_weight\")"
   ]
  },
  {
   "cell_type": "markdown",
   "id": "48eb068e",
   "metadata": {},
   "source": [
    "## H0 : sample_mean_A= sample_mean_B\n",
    "\n",
    "## H1 : sample_mean_A !=  sample_mean_B\n",
    "\n",
    "## The test will be carried out with 95% confidence interval and 5% level of significance."
   ]
  },
  {
   "cell_type": "code",
   "execution_count": 28,
   "id": "06e231a6",
   "metadata": {},
   "outputs": [],
   "source": [
    "ttest,p_value=stats.ttest_rel(a=class_A_weight,b=class_B_weight)"
   ]
  },
  {
   "cell_type": "code",
   "execution_count": 29,
   "id": "10149fa5",
   "metadata": {},
   "outputs": [
    {
     "data": {
      "text/plain": [
       "-9.58706236059213"
      ]
     },
     "execution_count": 29,
     "metadata": {},
     "output_type": "execute_result"
    }
   ],
   "source": [
    "ttest"
   ]
  },
  {
   "cell_type": "code",
   "execution_count": 30,
   "id": "2d640b5c",
   "metadata": {},
   "outputs": [
    {
     "data": {
      "text/plain": [
       "2.3363592951408468e-06"
      ]
     },
     "execution_count": 30,
     "metadata": {},
     "output_type": "execute_result"
    }
   ],
   "source": [
    "p_value"
   ]
  },
  {
   "cell_type": "code",
   "execution_count": 31,
   "id": "3146188d",
   "metadata": {},
   "outputs": [
    {
     "name": "stdout",
     "output_type": "stream",
     "text": [
      " we are rejecting null hypothesis\n"
     ]
    }
   ],
   "source": [
    "if p_value < 0.05:   \n",
    "    print(\" we are rejecting null hypothesis\")\n",
    "else:\n",
    "    print(\"we are accepting null hypothesis\")"
   ]
  },
  {
   "cell_type": "markdown",
   "id": "da6931b0",
   "metadata": {},
   "source": [
    "This test concludes that there is a difference between the 2 samples"
   ]
  },
  {
   "cell_type": "code",
   "execution_count": null,
   "id": "c229c72c",
   "metadata": {},
   "outputs": [],
   "source": []
  }
 ],
 "metadata": {
  "kernelspec": {
   "display_name": "Python 3",
   "language": "python",
   "name": "python3"
  },
  "language_info": {
   "codemirror_mode": {
    "name": "ipython",
    "version": 3
   },
   "file_extension": ".py",
   "mimetype": "text/x-python",
   "name": "python",
   "nbconvert_exporter": "python",
   "pygments_lexer": "ipython3",
   "version": "3.8.8"
  }
 },
 "nbformat": 4,
 "nbformat_minor": 5
}
