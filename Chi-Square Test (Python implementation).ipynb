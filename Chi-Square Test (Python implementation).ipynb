{
 "cells": [
  {
   "cell_type": "markdown",
   "id": "f8ddcd03",
   "metadata": {},
   "source": [
    "# CHI SQUARE TEST"
   ]
  },
  {
   "cell_type": "markdown",
   "id": "8cbf9c59",
   "metadata": {},
   "source": [
    "The chi square tests deals only with categorical variable "
   ]
  },
  {
   "cell_type": "markdown",
   "id": "7936708d",
   "metadata": {},
   "source": [
    "The chi square test is used to test whether there is any association between 2 features and also to test whether the sample data is the estimate of population"
   ]
  },
  {
   "cell_type": "markdown",
   "id": "d1705893",
   "metadata": {},
   "source": [
    "# TEST FOR INDEPENDENCE"
   ]
  },
  {
   "cell_type": "markdown",
   "id": "a5e5542b",
   "metadata": {},
   "source": [
    "The test for independence is the chi square test which tells us whether 2 categorical features where independent of each other or not."
   ]
  },
  {
   "cell_type": "code",
   "execution_count": 4,
   "id": "174cce65",
   "metadata": {},
   "outputs": [],
   "source": [
    "import seaborn as sns\n",
    "import pandas as pd\n",
    "import numpy as np\n",
    "import scipy.stats as stats"
   ]
  },
  {
   "cell_type": "code",
   "execution_count": 3,
   "id": "8a9d7213",
   "metadata": {},
   "outputs": [],
   "source": [
    "df=pd.read_csv(\"D:/Datasets/Placement.csv\")"
   ]
  },
  {
   "cell_type": "code",
   "execution_count": 4,
   "id": "515bbad0",
   "metadata": {},
   "outputs": [
    {
     "data": {
      "text/html": [
       "<div>\n",
       "<style scoped>\n",
       "    .dataframe tbody tr th:only-of-type {\n",
       "        vertical-align: middle;\n",
       "    }\n",
       "\n",
       "    .dataframe tbody tr th {\n",
       "        vertical-align: top;\n",
       "    }\n",
       "\n",
       "    .dataframe thead th {\n",
       "        text-align: right;\n",
       "    }\n",
       "</style>\n",
       "<table border=\"1\" class=\"dataframe\">\n",
       "  <thead>\n",
       "    <tr style=\"text-align: right;\">\n",
       "      <th></th>\n",
       "      <th>sl_no</th>\n",
       "      <th>gender</th>\n",
       "      <th>ssc_p</th>\n",
       "      <th>ssc_b</th>\n",
       "      <th>hsc_p</th>\n",
       "      <th>hsc_b</th>\n",
       "      <th>hsc_s</th>\n",
       "      <th>degree_p</th>\n",
       "      <th>degree_t</th>\n",
       "      <th>workex</th>\n",
       "      <th>etest_p</th>\n",
       "      <th>specialisation</th>\n",
       "      <th>mba_p</th>\n",
       "      <th>status</th>\n",
       "      <th>salary</th>\n",
       "    </tr>\n",
       "  </thead>\n",
       "  <tbody>\n",
       "    <tr>\n",
       "      <th>0</th>\n",
       "      <td>1</td>\n",
       "      <td>M</td>\n",
       "      <td>67.00</td>\n",
       "      <td>Others</td>\n",
       "      <td>91.00</td>\n",
       "      <td>Others</td>\n",
       "      <td>Commerce</td>\n",
       "      <td>58.00</td>\n",
       "      <td>Sci&amp;Tech</td>\n",
       "      <td>No</td>\n",
       "      <td>55.0</td>\n",
       "      <td>Mkt&amp;HR</td>\n",
       "      <td>58.80</td>\n",
       "      <td>Placed</td>\n",
       "      <td>270000.0</td>\n",
       "    </tr>\n",
       "    <tr>\n",
       "      <th>1</th>\n",
       "      <td>2</td>\n",
       "      <td>M</td>\n",
       "      <td>79.33</td>\n",
       "      <td>Central</td>\n",
       "      <td>78.33</td>\n",
       "      <td>Others</td>\n",
       "      <td>Science</td>\n",
       "      <td>77.48</td>\n",
       "      <td>Sci&amp;Tech</td>\n",
       "      <td>Yes</td>\n",
       "      <td>86.5</td>\n",
       "      <td>Mkt&amp;Fin</td>\n",
       "      <td>66.28</td>\n",
       "      <td>Placed</td>\n",
       "      <td>200000.0</td>\n",
       "    </tr>\n",
       "    <tr>\n",
       "      <th>2</th>\n",
       "      <td>3</td>\n",
       "      <td>M</td>\n",
       "      <td>65.00</td>\n",
       "      <td>Central</td>\n",
       "      <td>68.00</td>\n",
       "      <td>Central</td>\n",
       "      <td>Arts</td>\n",
       "      <td>64.00</td>\n",
       "      <td>Comm&amp;Mgmt</td>\n",
       "      <td>No</td>\n",
       "      <td>75.0</td>\n",
       "      <td>Mkt&amp;Fin</td>\n",
       "      <td>57.80</td>\n",
       "      <td>Placed</td>\n",
       "      <td>250000.0</td>\n",
       "    </tr>\n",
       "    <tr>\n",
       "      <th>3</th>\n",
       "      <td>4</td>\n",
       "      <td>M</td>\n",
       "      <td>56.00</td>\n",
       "      <td>Central</td>\n",
       "      <td>52.00</td>\n",
       "      <td>Central</td>\n",
       "      <td>Science</td>\n",
       "      <td>52.00</td>\n",
       "      <td>Sci&amp;Tech</td>\n",
       "      <td>No</td>\n",
       "      <td>66.0</td>\n",
       "      <td>Mkt&amp;HR</td>\n",
       "      <td>59.43</td>\n",
       "      <td>Not Placed</td>\n",
       "      <td>NaN</td>\n",
       "    </tr>\n",
       "    <tr>\n",
       "      <th>4</th>\n",
       "      <td>5</td>\n",
       "      <td>M</td>\n",
       "      <td>85.80</td>\n",
       "      <td>Central</td>\n",
       "      <td>73.60</td>\n",
       "      <td>Central</td>\n",
       "      <td>Commerce</td>\n",
       "      <td>73.30</td>\n",
       "      <td>Comm&amp;Mgmt</td>\n",
       "      <td>No</td>\n",
       "      <td>96.8</td>\n",
       "      <td>Mkt&amp;Fin</td>\n",
       "      <td>55.50</td>\n",
       "      <td>Placed</td>\n",
       "      <td>425000.0</td>\n",
       "    </tr>\n",
       "  </tbody>\n",
       "</table>\n",
       "</div>"
      ],
      "text/plain": [
       "   sl_no gender  ssc_p    ssc_b  hsc_p    hsc_b     hsc_s  degree_p  \\\n",
       "0      1      M  67.00   Others  91.00   Others  Commerce     58.00   \n",
       "1      2      M  79.33  Central  78.33   Others   Science     77.48   \n",
       "2      3      M  65.00  Central  68.00  Central      Arts     64.00   \n",
       "3      4      M  56.00  Central  52.00  Central   Science     52.00   \n",
       "4      5      M  85.80  Central  73.60  Central  Commerce     73.30   \n",
       "\n",
       "    degree_t workex  etest_p specialisation  mba_p      status    salary  \n",
       "0   Sci&Tech     No     55.0         Mkt&HR  58.80      Placed  270000.0  \n",
       "1   Sci&Tech    Yes     86.5        Mkt&Fin  66.28      Placed  200000.0  \n",
       "2  Comm&Mgmt     No     75.0        Mkt&Fin  57.80      Placed  250000.0  \n",
       "3   Sci&Tech     No     66.0         Mkt&HR  59.43  Not Placed       NaN  \n",
       "4  Comm&Mgmt     No     96.8        Mkt&Fin  55.50      Placed  425000.0  "
      ]
     },
     "execution_count": 4,
     "metadata": {},
     "output_type": "execute_result"
    }
   ],
   "source": [
    "df.head()"
   ]
  },
  {
   "cell_type": "code",
   "execution_count": 5,
   "id": "44cabcb2",
   "metadata": {},
   "outputs": [
    {
     "data": {
      "text/plain": [
       "sl_no              0\n",
       "gender             0\n",
       "ssc_p              0\n",
       "ssc_b              0\n",
       "hsc_p              0\n",
       "hsc_b              0\n",
       "hsc_s              0\n",
       "degree_p           0\n",
       "degree_t           0\n",
       "workex             0\n",
       "etest_p            0\n",
       "specialisation     0\n",
       "mba_p              0\n",
       "status             0\n",
       "salary            67\n",
       "dtype: int64"
      ]
     },
     "execution_count": 5,
     "metadata": {},
     "output_type": "execute_result"
    }
   ],
   "source": [
    "df.isnull().sum()"
   ]
  },
  {
   "cell_type": "markdown",
   "id": "917268b5",
   "metadata": {},
   "source": [
    "## Now we can test for independence between gender and hsc_s (course purused in higher secondary)\n",
    "\n",
    "## We are now checking whether both the features are independent about each other or not using chi square test ( test for independence)"
   ]
  },
  {
   "cell_type": "markdown",
   "id": "e4c34b7b",
   "metadata": {},
   "source": [
    "## H0 : gender and hsc_s are independent\n",
    "\n",
    "## H1 : gender and hsc_s are  not independent"
   ]
  },
  {
   "cell_type": "markdown",
   "id": "b076ff02",
   "metadata": {},
   "source": [
    "As per the concept lets first make the contingency table for observed dat"
   ]
  },
  {
   "cell_type": "code",
   "execution_count": 29,
   "id": "35e73286",
   "metadata": {},
   "outputs": [
    {
     "name": "stdout",
     "output_type": "stream",
     "text": [
      "Observed frequencies\n",
      "hsc_s   Arts  Commerce  Science\n",
      "gender                         \n",
      "F          6        40       30\n",
      "M          5        73       61\n"
     ]
    }
   ],
   "source": [
    "obs_table=pd.crosstab(df['gender'],df['hsc_s'])\n",
    "print(\"Observed frequencies\")\n",
    "print(obs_table)"
   ]
  },
  {
   "cell_type": "code",
   "execution_count": 9,
   "id": "f2f814e6",
   "metadata": {},
   "outputs": [
    {
     "name": "stdout",
     "output_type": "stream",
     "text": [
      "[[ 6 40 30]\n",
      " [ 5 73 61]]\n"
     ]
    }
   ],
   "source": [
    "obs=obs_table.values\n",
    "print(obs)"
   ]
  },
  {
   "cell_type": "code",
   "execution_count": 12,
   "id": "442a397a",
   "metadata": {},
   "outputs": [
    {
     "name": "stdout",
     "output_type": "stream",
     "text": [
      "(1.9997559814872248, 0.3679243286067856, 2, array([[ 3.88837209, 39.94418605, 32.16744186],\n",
      "       [ 7.11162791, 73.05581395, 58.83255814]]))\n"
     ]
    }
   ],
   "source": [
    "exp_t=stats.chi2_contingency(obs_table)\n",
    "print(exp_t)"
   ]
  },
  {
   "cell_type": "code",
   "execution_count": 28,
   "id": "131631ff",
   "metadata": {},
   "outputs": [
    {
     "name": "stdout",
     "output_type": "stream",
     "text": [
      "Expected frequencies\n",
      "[[ 3.88837209 39.94418605 32.16744186]\n",
      " [ 7.11162791 73.05581395 58.83255814]]\n"
     ]
    }
   ],
   "source": [
    "dof=exp_t[2]\n",
    "exp=exp_t[3]\n",
    "print(\"Expected frequencies\")\n",
    "print(exp)"
   ]
  },
  {
   "cell_type": "code",
   "execution_count": 30,
   "id": "43280684",
   "metadata": {},
   "outputs": [
    {
     "name": "stdout",
     "output_type": "stream",
     "text": [
      "chi square statistic\n",
      "1.9997559814872248\n"
     ]
    }
   ],
   "source": [
    "chi_squared_stat = (((obs-exp)**2)/exp).sum().sum()\n",
    "print(\"chi square statistic\")\n",
    "print(chi_squared_stat)"
   ]
  },
  {
   "cell_type": "code",
   "execution_count": 31,
   "id": "4b14cf1b",
   "metadata": {},
   "outputs": [
    {
     "name": "stdout",
     "output_type": "stream",
     "text": [
      "critical value for respective confidence interval and degree of freedom\n",
      "5.991464547107979\n"
     ]
    }
   ],
   "source": [
    "crit=stats.chi2.ppf(q = 0.95,df = dof) \n",
    "print(\"critical value for respective confidence interval and degree of freedom\")\n",
    "print(crit)"
   ]
  },
  {
   "cell_type": "code",
   "execution_count": 26,
   "id": "90353449",
   "metadata": {},
   "outputs": [
    {
     "name": "stdout",
     "output_type": "stream",
     "text": [
      "P value\n",
      "0.3679243286067856\n"
     ]
    }
   ],
   "source": [
    "p_value = 1 - stats.chi2.cdf(x=chi_squared_stat,  \n",
    "                             df=dof)\n",
    "print(\"P value\")\n",
    "print(p_value)"
   ]
  },
  {
   "cell_type": "code",
   "execution_count": 27,
   "id": "e8741ac8",
   "metadata": {},
   "outputs": [
    {
     "name": "stdout",
     "output_type": "stream",
     "text": [
      "we are accepting null hypothesis\n"
     ]
    }
   ],
   "source": [
    "if p_value < 0.05:   \n",
    "    print(\" we are rejecting null hypothesis\")\n",
    "else:\n",
    "    print(\"we are accepting null hypothesis\")"
   ]
  },
  {
   "cell_type": "markdown",
   "id": "d552aec1",
   "metadata": {},
   "source": [
    "## Thus gender and hsc_s were independent "
   ]
  },
  {
   "cell_type": "markdown",
   "id": "6f53896f",
   "metadata": {},
   "source": [
    "## H0 : work experience and placement status are independent\n",
    "\n",
    "## H1 : work experience and placement status are not independent\n",
    "\n",
    "## This test will be carried out with 5% level of significance"
   ]
  },
  {
   "cell_type": "code",
   "execution_count": 32,
   "id": "1b645afb",
   "metadata": {},
   "outputs": [
    {
     "name": "stdout",
     "output_type": "stream",
     "text": [
      "Observed frequencies\n",
      "status  Not Placed  Placed\n",
      "workex                    \n",
      "No              57      84\n",
      "Yes             10      64\n"
     ]
    }
   ],
   "source": [
    "obs_table1=pd.crosstab(df['workex'],df['status'])\n",
    "print(\"Observed frequencies\")\n",
    "print(obs_table1)"
   ]
  },
  {
   "cell_type": "code",
   "execution_count": 33,
   "id": "d054da98",
   "metadata": {},
   "outputs": [
    {
     "name": "stdout",
     "output_type": "stream",
     "text": [
      "[[57 84]\n",
      " [10 64]]\n"
     ]
    }
   ],
   "source": [
    "obs1=obs_table1.values\n",
    "print(obs1)"
   ]
  },
  {
   "cell_type": "code",
   "execution_count": 34,
   "id": "1a946ded",
   "metadata": {},
   "outputs": [
    {
     "name": "stdout",
     "output_type": "stream",
     "text": [
      "(15.154425347637423, 9.906584720516494e-05, 1, array([[43.93953488, 97.06046512],\n",
      "       [23.06046512, 50.93953488]]))\n"
     ]
    }
   ],
   "source": [
    "exp_t1=stats.chi2_contingency(obs_table1)\n",
    "print(exp_t1)"
   ]
  },
  {
   "cell_type": "code",
   "execution_count": 35,
   "id": "cd57decb",
   "metadata": {},
   "outputs": [
    {
     "name": "stdout",
     "output_type": "stream",
     "text": [
      "Expected frequencies\n",
      "[[43.93953488 97.06046512]\n",
      " [23.06046512 50.93953488]]\n"
     ]
    }
   ],
   "source": [
    "dof1=exp_t1[2]\n",
    "exp1=exp_t1[3]\n",
    "print(\"Expected frequencies\")\n",
    "print(exp1)"
   ]
  },
  {
   "cell_type": "code",
   "execution_count": 36,
   "id": "a27c0079",
   "metadata": {},
   "outputs": [
    {
     "name": "stdout",
     "output_type": "stream",
     "text": [
      "chi square statistic\n",
      "16.384957391368694\n"
     ]
    }
   ],
   "source": [
    "chi_squared_stat1 = (((obs1-exp1)**2)/exp1).sum().sum()\n",
    "print(\"chi square statistic\")\n",
    "print(chi_squared_stat1)"
   ]
  },
  {
   "cell_type": "code",
   "execution_count": 37,
   "id": "4e947954",
   "metadata": {},
   "outputs": [
    {
     "name": "stdout",
     "output_type": "stream",
     "text": [
      "critical value for respective confidence interval and degree of freedom\n",
      "3.841458820694124\n"
     ]
    }
   ],
   "source": [
    "crit1=stats.chi2.ppf(q = 0.95,df = dof1) \n",
    "print(\"critical value for respective confidence interval and degree of freedom\")\n",
    "print(crit1)"
   ]
  },
  {
   "cell_type": "code",
   "execution_count": 40,
   "id": "fe7fec94",
   "metadata": {},
   "outputs": [
    {
     "name": "stdout",
     "output_type": "stream",
     "text": [
      "P value\n",
      "5.169385992243036e-05\n"
     ]
    }
   ],
   "source": [
    "p_value = 1 - stats.chi2.cdf(x=chi_squared_stat1,  \n",
    "                             df=dof1)\n",
    "print(\"P value\")\n",
    "print(p_value)"
   ]
  },
  {
   "cell_type": "code",
   "execution_count": 41,
   "id": "c2e9d1c9",
   "metadata": {},
   "outputs": [
    {
     "name": "stdout",
     "output_type": "stream",
     "text": [
      " we are rejecting null hypothesis\n"
     ]
    }
   ],
   "source": [
    "if p_value < 0.05:   \n",
    "    print(\" we are rejecting null hypothesis\")\n",
    "else:\n",
    "    print(\"we are accepting null hypothesis\")"
   ]
  },
  {
   "cell_type": "markdown",
   "id": "dee7736e",
   "metadata": {},
   "source": [
    "## Therefore we have enough evidence to reject null hypothesis"
   ]
  },
  {
   "cell_type": "markdown",
   "id": "04270c78",
   "metadata": {},
   "source": [
    "## Work experience and placement status depends on each other"
   ]
  },
  {
   "cell_type": "markdown",
   "id": "3961be88",
   "metadata": {},
   "source": [
    "# GOODNESS OF FIT"
   ]
  },
  {
   "cell_type": "markdown",
   "id": "ccb97558",
   "metadata": {},
   "source": [
    "It tests whether the distribution of sample categorical data matches an expected distribution"
   ]
  },
  {
   "cell_type": "code",
   "execution_count": 5,
   "id": "0f0eae35",
   "metadata": {},
   "outputs": [],
   "source": [
    "national = pd.DataFrame([\"white\"]*100000 + [\"hispanic\"]*60000 +\\\n",
    "                        [\"black\"]*50000 + [\"asian\"]*15000 + [\"other\"]*35000)   #Population"
   ]
  },
  {
   "cell_type": "code",
   "execution_count": 6,
   "id": "5ac85561",
   "metadata": {},
   "outputs": [],
   "source": [
    "minnesota = pd.DataFrame([\"white\"]*600 + [\"hispanic\"]*300 + \\\n",
    "                         [\"black\"]*250 +[\"asian\"]*75 + [\"other\"]*150)          #Sample drwan from the above population"
   ]
  },
  {
   "cell_type": "markdown",
   "id": "fb49f99e",
   "metadata": {},
   "source": [
    "## H0 : sample data is estimate of population data\n",
    "\n",
    "## H1 : sample data is not the estimate of population data\n",
    "\n",
    "## This test will be carried out with 5% level of significance"
   ]
  },
  {
   "cell_type": "code",
   "execution_count": 7,
   "id": "3d908f8f",
   "metadata": {},
   "outputs": [
    {
     "name": "stdout",
     "output_type": "stream",
     "text": [
      "National\n",
      "col_0      count\n",
      "0               \n",
      "asian      15000\n",
      "black      50000\n",
      "hispanic   60000\n",
      "other      35000\n",
      "white     100000\n",
      " \n",
      "Minnesota\n",
      "col_0     count\n",
      "0              \n",
      "asian        75\n",
      "black       250\n",
      "hispanic    300\n",
      "other       150\n",
      "white       600\n"
     ]
    }
   ],
   "source": [
    "national_table = pd.crosstab(index=national[0], columns=\"count\")\n",
    "minnesota_table = pd.crosstab(index=minnesota[0], columns=\"count\")\n",
    "\n",
    "print( \"National\")\n",
    "print(national_table)\n",
    "print(\" \")\n",
    "print( \"Minnesota\")\n",
    "print(minnesota_table)"
   ]
  },
  {
   "cell_type": "code",
   "execution_count": 12,
   "id": "6cde515f",
   "metadata": {},
   "outputs": [
    {
     "name": "stdout",
     "output_type": "stream",
     "text": [
      "col_0\n",
      "count    18.194805\n",
      "dtype: float64\n"
     ]
    }
   ],
   "source": [
    "observed = minnesota_table\n",
    "\n",
    "national_ratios = national_table/len(national)  # Get population ratios\n",
    "\n",
    "expected = national_ratios * len(minnesota)   # Get expected counts\n",
    "\n",
    "chi_squared_stat = (((observed-expected)**2)/expected).sum()\n",
    "\n",
    "print(chi_squared_stat )"
   ]
  },
  {
   "cell_type": "markdown",
   "id": "399a232e",
   "metadata": {},
   "source": [
    "In the above cell we are calculating the ratios because....if it is the numerical data then we can go with hypothesis of sample mean is the estimate of population mean.\n",
    "\n",
    "But in here it is categorical data so we are calculation population ratios.\n",
    "\n",
    "we are multiplyting the length of sample data because we are expecting that sample data is the estimate of population data"
   ]
  },
  {
   "cell_type": "code",
   "execution_count": 14,
   "id": "7d9d31f5",
   "metadata": {},
   "outputs": [
    {
     "name": "stdout",
     "output_type": "stream",
     "text": [
      "Critical value\n",
      "9.487729036781154\n",
      "P value\n",
      "[0.00113047]\n"
     ]
    }
   ],
   "source": [
    "crit = stats.chi2.ppf(q = 0.95, \n",
    "                      df = 4)   \n",
    "print(\"Critical value\")\n",
    "print(crit)\n",
    "\n",
    "p_value = 1 - stats.chi2.cdf(x=chi_squared_stat,  # Find the p-value\n",
    "                             df=4)\n",
    "print(\"P value\")\n",
    "print(p_value)"
   ]
  },
  {
   "cell_type": "code",
   "execution_count": 15,
   "id": "a2c4e255",
   "metadata": {},
   "outputs": [
    {
     "data": {
      "text/plain": [
       "Power_divergenceResult(statistic=array([18.19480519]), pvalue=array([0.00113047]))"
      ]
     },
     "execution_count": 15,
     "metadata": {},
     "output_type": "execute_result"
    }
   ],
   "source": [
    "stats.chisquare(f_obs= observed,   # Array of observed counts\n",
    "                f_exp= expected)   # Array of expected counts"
   ]
  },
  {
   "cell_type": "code",
   "execution_count": 16,
   "id": "85594c82",
   "metadata": {},
   "outputs": [
    {
     "name": "stdout",
     "output_type": "stream",
     "text": [
      " we are rejecting null hypothesis\n"
     ]
    }
   ],
   "source": [
    "if p_value < 0.05:   \n",
    "    print(\" we are rejecting null hypothesis\")\n",
    "else:\n",
    "    print(\"we are accepting null hypothesis\")"
   ]
  },
  {
   "cell_type": "markdown",
   "id": "b1b63d8d",
   "metadata": {},
   "source": [
    "## Therefore sample data is not the estimate of population data"
   ]
  },
  {
   "cell_type": "code",
   "execution_count": null,
   "id": "56e613c6",
   "metadata": {},
   "outputs": [],
   "source": []
  }
 ],
 "metadata": {
  "kernelspec": {
   "display_name": "Python 3",
   "language": "python",
   "name": "python3"
  },
  "language_info": {
   "codemirror_mode": {
    "name": "ipython",
    "version": 3
   },
   "file_extension": ".py",
   "mimetype": "text/x-python",
   "name": "python",
   "nbconvert_exporter": "python",
   "pygments_lexer": "ipython3",
   "version": "3.8.8"
  }
 },
 "nbformat": 4,
 "nbformat_minor": 5
}
